{
  "nbformat": 4,
  "nbformat_minor": 0,
  "metadata": {
    "colab": {
      "provenance": []
    },
    "kernelspec": {
      "name": "python3",
      "display_name": "Python 3"
    },
    "language_info": {
      "name": "python"
    }
  },
  "cells": [
    {
      "cell_type": "code",
      "execution_count": 3,
      "metadata": {
        "id": "d711wFVma2gE"
      },
      "outputs": [],
      "source": [
        "class Books:\n",
        "  _ID=100\n",
        "  title=None\n",
        "  Author=None\n",
        "  book_id=None\n",
        "  borrowed=False\n",
        "  def __init__(self) :\n",
        "    Books._ID+=1\n",
        "    self.book_id=str(Books._ID)\n",
        "  def borrow (self):\n",
        "      if self.borrowed==False:\n",
        "        print ('Borrowed successfuly')\n",
        "        self.borrowed =True\n",
        "      else:\n",
        "        print ('Already borrowed')\n",
        "  def Return (self):\n",
        "    if self.borrowed == False:\n",
        "      print ('Returned before')\n",
        "    else:\n",
        "      print ('returned succefuly')\n",
        "      self.borrowed =False\n",
        "  def Display (self):\n",
        "      print(f\"Title: {self.title}\\nAuthor: {self.author}\\nID: {self.book_id}\\nBorrowing status: {self.borrowed}\")"
      ]
    },
    {
      "cell_type": "code",
      "source": [
        "books=[]"
      ],
      "metadata": {
        "id": "HaSrUtd_fd0s"
      },
      "execution_count": 4,
      "outputs": []
    },
    {
      "cell_type": "code",
      "source": [
        "def read ():\n",
        "  while True:\n",
        "   k=Books()\n",
        "   k.title=input('Enter the book title ')\n",
        "   k.author=input('Enter the name of the author ')\n",
        "   print (f'Your book ID is: {k.book_id}')\n",
        "   books.append(k)\n",
        "   exit=input ('press 1 to add another book and 2 to exit ')\n",
        "   if exit=='1':\n",
        "    continue\n",
        "   elif exit == '2':\n",
        "    break\n",
        "   else:\n",
        "    print ('Error')\n",
        "    break\n",
        "def All ():\n",
        "  for b in books:\n",
        "    print (f'Information of ID: {b.book_id} book ')\n",
        "    b.Display ()\n",
        "    print('_____________________________')\n",
        "def bor():\n",
        "    book_id = input(\"Enter the book ID: \")\n",
        "    for b in books:\n",
        "        if b.book_id == book_id:\n",
        "            print('_____________________________\\n')\n",
        "            b.borrow()\n",
        "            print('_____________________________')\n",
        "            return\n",
        "    print(\"Book not found.\")\n",
        "def ret():\n",
        "    book_id = input(\"Enter the book ID: \")\n",
        "    for b in books:\n",
        "        if b.book_id == book_id:\n",
        "            print('_____________________________\\n')\n",
        "            b.Return()\n",
        "            print('_____________________________')\n",
        "            return\n",
        "    print(\"Book not found.\")\n",
        "\n"
      ],
      "metadata": {
        "id": "wyS0zMsofj5M"
      },
      "execution_count": 5,
      "outputs": []
    },
    {
      "cell_type": "code",
      "source": [
        "def menu():\n",
        "  while True:\n",
        "    n=input('1. Add new book \\n2. Borrow a book \\n3. Return a book \\n4. Display all books \\n5. Exit\\n')\n",
        "    if n == '1':\n",
        "      read ()\n",
        "    elif n == '2':\n",
        "      bor()\n",
        "    elif n == '3':\n",
        "      ret()\n",
        "    elif n == '4':\n",
        "      All()\n",
        "    elif n == '5':\n",
        "      break\n",
        "    else:\n",
        "      print ('Error')"
      ],
      "metadata": {
        "id": "ZlQSb8_poaqp"
      },
      "execution_count": 6,
      "outputs": []
    },
    {
      "cell_type": "code",
      "source": [
        "menu ()"
      ],
      "metadata": {
        "id": "fGUVhaepik7C"
      },
      "execution_count": null,
      "outputs": []
    }
  ]
}